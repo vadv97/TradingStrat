{
 "cells": [
  {
   "cell_type": "code",
   "execution_count": 1,
   "id": "5b89c85b",
   "metadata": {},
   "outputs": [],
   "source": [
    "import pandas as pd\n",
    "import numpy as np\n",
    "import matplotlib.pyplot as plt"
   ]
  },
  {
   "cell_type": "code",
   "execution_count": 2,
   "id": "11582261",
   "metadata": {},
   "outputs": [],
   "source": [
    "trial=pd.read_csv(\"usd_cad_final.csv\")                                         \n",
    "trial =trial [[\"FX_Rate\",\"Timestamp\"]]                               \n",
    "\n",
    "\n",
    "returns=[]                                                                     #Creating an empty list for returns\n",
    "for i in range(1,len(trial)):\n",
    "    returns.append((trial.iloc[i,0]-trial.iloc[i-1,0])/trial.iloc[i-1,0])      #Calculating returns \n",
    "\n",
    "returns.insert(0,0)                                                            #Inserting null value for the first element\n",
    "trial[\"returns\"]=pd.Series(returns)                                            #Converting the list into a series\n",
    " \n",
    "\n",
    "\n",
    "#Average of the returns:\n",
    "\n",
    "i=0\n",
    "j=360\n",
    "store=len(trial)//360\n",
    "average_returns=[]                                      #creating an empty list \n",
    "for i in range(store):\n",
    "    average_returns.append(np.mean(trial.iloc[1:j,2]))  \n",
    "    i+=360                                              \n",
    "    j+=360\n",
    "\n",
    "#Average of the prices\n",
    "\n",
    "i=0\n",
    "j=360\n",
    "store=len(trial)//360\n",
    "average_prices=[]\n",
    "for i in range(store):\n",
    "    average_prices.append(np.mean(trial.iloc[1:j,0]))\n",
    "    i+=360\n",
    "    j+=360\n",
    "\n",
    "    \n",
    "#Standard Deviation of the prices\n",
    "\n",
    "i=0\n",
    "j=360\n",
    "store=len(trial)//360\n",
    "stds_prices=[]\n",
    "for i in range(store):\n",
    "    stds_prices.append(np.std(trial.iloc[1:j,0]))\n",
    "    i+=360\n",
    "    j+=360\n",
    "\n",
    "\n",
    "#Trading strategy: \n",
    "#3 consecutive positive returns trigger a buy on the thrid ticker\n",
    "#3 consecutive negative returns trigger a sell on the thrid ticker\n",
    "#If these conditions aren't met, do nothing\n",
    "\n",
    "j=0\n",
    "index=False\n",
    "sell=0\n",
    "buy=0                                                                                   #Starting loop from index 2 since we\n",
    "final_list=[]                                                                           #need 3 values to determine\n",
    "for i in range(2,len(average_returns)):                                                 #whether to buy or sell \n",
    "    if buy==0 and sell==0:                                                              #initial conditions set to 0 buy/sell \n",
    "        if average_returns[j+2]>0 and average_returns[j+1]>0 and average_returns[j]>0:    \n",
    "            final_list.append(\"sell\")\n",
    "            j+=1\n",
    "            index=True                                                                  #switching index to true if its a sell\n",
    "            sell+=1                                                                     \n",
    "        elif average_returns[j+2]<0 and average_returns[j+1]<0 and average_returns[j]<0:\n",
    "            final_list.append(\"buy\")\n",
    "            j+=1\n",
    "            buy+=1\n",
    "        else:\n",
    "            final_list.append(\"do nothing\")\n",
    "            j+=1\n",
    "            \n",
    "    elif index==True:\n",
    "        if average_returns[j+2]<0 and average_returns[j+1]<0 and average_returns[j]<0:\n",
    "            final_list.append(\"buy\")\n",
    "            j+=1\n",
    "            index=False                                                                 \n",
    "        else :\n",
    "            final_list.append(\"do nothing\")\n",
    "            j+=1\n",
    "    else :\n",
    "        if average_returns[j+2]>0 and average_returns[j+1]>0 and average_returns[j]>0:\n",
    "            final_list.append(\"sell\")\n",
    "            j+=1\n",
    "            index=True\n",
    "        else :\n",
    "            final_list.append(\"do nothing\")\n",
    "            j+=1\n",
    "            \n",
    "final_list.insert(0,\"do nothing\")\n",
    "final_list.insert(0,\"do nothing\")\n",
    "\n",
    "\n",
    "#Creating a decisions list where a sell is positive and a buy is negative\n",
    "\n",
    "decisions = []\n",
    "for decision in final_list:\n",
    "    if decision == 'sell':\n",
    "        decisions.append(1)\n",
    "    elif decision == 'buy':\n",
    "        decisions.append(-1)\n",
    "    else:\n",
    "        decisions.append(0)\n",
    "\n",
    "\n",
    "#Creating a unified dataframe for values\n",
    "\n",
    "stats_outlook=pd.DataFrame()\n",
    "stats_outlook[\"average_price\"]=average_prices\n",
    "stats_outlook[\"standard_deviation\"]=stds_prices\n",
    "stats_outlook[\"average_return\"]=average_returns\n",
    "stats_outlook[\"trading_decision\"]=final_list\n",
    "stats_outlook[\"decision_boolean\"]=decisions\n",
    "stats_outlook[\"gain_loss\"]=decisions*stats_outlook['average_price']\n",
    "\n",
    "#Calculating Profit\n",
    "\n",
    "percent_profit = sum(stats_outlook[\"gain_loss\"])/stats_outlook['average_price'][0]"
   ]
  },
  {
   "cell_type": "code",
   "execution_count": 3,
   "id": "06a256d1",
   "metadata": {},
   "outputs": [
    {
     "data": {
      "image/png": "[encoded data removed]",
      "text/plain": [
       "<Figure size 432x288 with 1 Axes>"
      ]
     },
     "metadata": {
      "needs_background": "light"
     },
     "output_type": "display_data"
    }
   ],
   "source": [
    "def get_sma(prices, rate):\n",
    "    return prices.rolling(rate).mean()\n",
    "\n",
    "def get_bollinger_bands(prices, rate=360):\n",
    "    sma = get_sma(prices, rate)\n",
    "    std = prices.rolling(rate).std()\n",
    "    bollinger_up = sma + std * 1.25                              #Calculating upper band\n",
    "    bollinger_down = sma - std * 1.25                            #Calculating lower band\n",
    "    return bollinger_up, bollinger_down \n",
    "\n",
    "symbol = 'Bollinger Bands Graph'\n",
    "closing_prices = trial['FX_Rate'] \n",
    "\n",
    "sma = get_sma(closing_prices,360) \n",
    "bollinger_up, bollinger_down = get_bollinger_bands(closing_prices)\n",
    "\n",
    "# Plot the data\n",
    "plt.title(symbol)\n",
    "plt.xlabel('Time')\n",
    "plt.ylabel('Average Prices')\n",
    "plt.plot(closing_prices, label='Average Prices')\n",
    "plt.plot(sma, label='6 minute SMA')\n",
    "plt.plot(bollinger_up, label='Bollinger Up', c='g')\n",
    "plt.plot(bollinger_down, label='Bollinger Down', c='r')\n",
    "plt.legend()\n",
    "plt.show()"
   ]
  },
  {
   "cell_type": "code",
   "execution_count": 4,
   "id": "050f61ea",
   "metadata": {},
   "outputs": [
    {
     "name": "stdout",
     "output_type": "stream",
     "text": [
      " Decision: buy \n",
      " Price bought at: 1.2785798123697012 \n",
      " Lower Bollinger set at 1.2788400584178528\n"
     ]
    }
   ],
   "source": [
    "malist=[]\n",
    "stdlist=[]\n",
    "\n",
    "for start in range(0, len(closing_prices)-360):\n",
    "    malist.append(np.mean(closing_prices[start: start + 360]))\n",
    "for start in range(0, len(closing_prices)-360):\n",
    "    stdlist.append(np.std(closing_prices[start: start + 360]))\n",
    "\n",
    "upper=[]\n",
    "lower=[]\n",
    "\n",
    "for i in range(len(malist)):\n",
    "    urb = malist[i] + (stdlist[i] * 1.25)\n",
    "    upper.append(urb)\n",
    "for i in range(len(malist)):\n",
    "    lrb = malist[i] - (stdlist[i] * 1.5)\n",
    "    lower.append(lrb)\n",
    "    \n",
    "#Checking the number of trades that occured in the given interval\n",
    "\n",
    "clicker=0\n",
    "for i in range (len(stats_outlook)):\n",
    "    if (final_list[i] == \"do nothing\"):\n",
    "        clicker += 1\n",
    "\n",
    "trades = len(stats_outlook)-clicker\n",
    "\n",
    "#Checking the number of trades that occured outside the Bollinger Bands\n",
    "\n",
    "xtrade=0\n",
    "\n",
    "for i in range (len(stats_outlook)):\n",
    "    if (final_list[i] == 'buy') and (average_prices[i]<lower[i]):\n",
    "        xtrade += 1\n",
    "        print(\" Decision:\",final_list[i],\"\\n\",\"Price bought at:\",average_prices[i],\"\\n\",\"Lower Bollinger set at\",lower[i])\n",
    "    elif (final_list[i] == 'sell') and (average_prices[i]>upper[i]):\n",
    "        xtrade +=1\n",
    "        print(\" Decision:\",final_list[i],\"\\n\",\"Price sold at:\",average_prices[i],\"\\n\",\"Upper Bollinger set at\",upper[i])\n",
    "    else:\n",
    "        continue"
   ]
  },
  {
   "cell_type": "code",
   "execution_count": 5,
   "id": "23158d65",
   "metadata": {},
   "outputs": [
    {
     "data": {
      "text/plain": [
       "do nothing    49\n",
       "buy            1\n",
       "Name: trading_decision, dtype: int64"
      ]
     },
     "execution_count": 5,
     "metadata": {},
     "output_type": "execute_result"
    }
   ],
   "source": [
    "stats_outlook[\"trading_decision\"].value_counts()"
   ]
  },
  {
   "cell_type": "code",
   "execution_count": 6,
   "id": "af70c96b",
   "metadata": {},
   "outputs": [
    {
     "name": "stdout",
     "output_type": "stream",
     "text": [
      " Total number of trades conducted: 1 \n",
      " Total number of trades conducted outside the Bollinger Bands: 1\n"
     ]
    }
   ],
   "source": [
    "print (\" Total number of trades conducted:\",trades,\"\\n\",\"Total number of trades conducted outside the Bollinger Bands:\",xtrade)"
   ]
  },
  {
   "cell_type": "code",
   "execution_count": 7,
   "id": "8ff95338",
   "metadata": {},
   "outputs": [
    {
     "data": {
      "text/plain": [
       "-0.999636202844397"
      ]
     },
     "execution_count": 7,
     "metadata": {},
     "output_type": "execute_result"
    }
   ],
   "source": [
    "percent_profit"
   ]
  },
  {
   "cell_type": "code",
   "execution_count": null,
   "id": "b9be364a",
   "metadata": {},
   "outputs": [],
   "source": []
  }
 ],
 "metadata": {
  "kernelspec": {
   "display_name": "Python 3 (ipykernel)",
   "language": "python",
   "name": "python3"
  },
  "language_info": {
   "codemirror_mode": {
    "name": "ipython",
    "version": 3
   },
   "file_extension": ".py",
   "mimetype": "text/x-python",
   "name": "python",
   "nbconvert_exporter": "python",
   "pygments_lexer": "ipython3",
   "version": "3.9.7"
  }
 },
 "nbformat": 4,
 "nbformat_minor": 5
}
