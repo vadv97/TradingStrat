{
 "cells": [
  {
   "cell_type": "code",
   "execution_count": 7,
   "id": "5b89c85b",
   "metadata": {},
   "outputs": [],
   "source": [
    "import pandas as pd\n",
    "import numpy as np\n",
    "import matplotlib.pyplot as plt"
   ]
  },
  {
   "cell_type": "code",
   "execution_count": 3,
   "id": "11582261",
   "metadata": {},
   "outputs": [],
   "source": [
    "trial=pd.read_csv(\"usd_gbp_final.csv\")                                               #Using the HW5 data files\n",
    "trial =trial [[\"FX_Rate\",\"Timestamp\"]]                               \n",
    "\n",
    "\n",
    "returns=[]                                                                     #Creating an empty list for returns\n",
    "for i in range(1,len(trial)):\n",
    "    returns.append((trial.iloc[i,0]-trial.iloc[i-1,0])/trial.iloc[i-1,0])      #Calculating returns \n",
    "\n",
    "returns.insert(0,0)                                                            #Inserting null value for the first element\n",
    "trial[\"returns\"]=pd.Series(returns)                                            #Converting the list into a series\n",
    " \n",
    "\n",
    "\n",
    "#Average of the returns:\n",
    "\n",
    "i=0\n",
    "j=360\n",
    "store=len(trial)//360\n",
    "average_returns=[]                                      #creating an empty list \n",
    "for i in range(store):\n",
    "    average_returns.append(np.mean(trial.iloc[1:j,2]))  \n",
    "    i+=360                                              \n",
    "    j+=360\n",
    "\n",
    "#Average of the prices\n",
    "\n",
    "i=0\n",
    "j=360\n",
    "store=len(trial)//360\n",
    "average_prices=[]\n",
    "for i in range(store):\n",
    "    average_prices.append(np.mean(trial.iloc[1:j,0]))\n",
    "    i+=360\n",
    "    j+=360\n",
    "\n",
    "    \n",
    "#Standard Deviation of the prices\n",
    "\n",
    "i=0\n",
    "j=360\n",
    "store=len(trial)//360\n",
    "stds_prices=[]\n",
    "for i in range(store):\n",
    "    stds_prices.append(np.std(trial.iloc[1:j,0]))\n",
    "    i+=360\n",
    "    j+=360\n",
    "\n",
    "\n",
    "#Trading strategy: \n",
    "#3 consecutive positive returns trigger a buy\n",
    "#3 consecutive negative returns trigger a sell\n",
    "#If these conditions aren't met, do nothing\n",
    "\n",
    "j=0\n",
    "index=False\n",
    "sell=0\n",
    "buy=0                                                                                   #Starting loop from index 2 since we\n",
    "final_list=[]                                                                           #need 3 values to determine\n",
    "for i in range(2,len(average_returns)):                                                 #whether to buy or sell \n",
    "    if buy==0 and sell==0:                                                              #initial conditions set to 0 buy/sell \n",
    "        if average_returns[j+2]>0 and average_returns[j+1]>0 and average_returns[j]>0:  #checking returns  \n",
    "            final_list.append(\"sell\")\n",
    "            j+=1\n",
    "            index=True                                                                  #switching index to true if its a sell\n",
    "            sell+=1                                                                     \n",
    "        elif average_returns[j+2]<0 and average_returns[j+1]<0 and average_returns[j]<0:\n",
    "            final_list.append(\"buy\")\n",
    "            j+=1\n",
    "            buy+=1\n",
    "        else:\n",
    "            final_list.append(\"do nothing\")\n",
    "            j+=1\n",
    "            \n",
    "    elif index==True:\n",
    "        if average_returns[j+2]<0 and average_returns[j+1]<0 and average_returns[j]<0:\n",
    "            final_list.append(\"buy\")\n",
    "            j+=1\n",
    "            index=False                                                                 \n",
    "        else :\n",
    "            final_list.append(\"do nothing\")\n",
    "            j+=1\n",
    "    else :\n",
    "        if average_returns[j+2]>0 and average_returns[j+1]>0 and average_returns[j]>0:\n",
    "            final_list.append(\"sell\")\n",
    "            j+=1\n",
    "            index=True\n",
    "        else :\n",
    "            final_list.append(\"do nothing\")\n",
    "            j+=1\n",
    "            \n",
    "final_list.insert(0,\"do nothing\")\n",
    "final_list.insert(0,\"do nothing\")\n",
    "\n",
    "#Creating a unified dataframe for values\n",
    "\n",
    "stats_outlook=pd.DataFrame()\n",
    "stats_outlook[\"average_price\"]=average_prices\n",
    "stats_outlook[\"standard_deviation\"]=stds_prices\n",
    "stats_outlook[\"average_return\"]=average_returns\n",
    "stats_outlook[\"trading_decision\"]=final_list\n",
    "\n",
    "#Calculating Profit\n",
    "\n",
    "sp=0\n",
    "cp=0\n",
    "\n",
    "for i in range(len(stats_outlook)):\n",
    "    if stats_outlook.iloc[i,3]==\"sell\":\n",
    "        sp+=stats_outlook.iloc[i,0]\n",
    "    elif stats_outlook.iloc[i,3]==\"buy\":\n",
    "        cp+=stats_outlook.iloc[i,0]\n",
    "    else:\n",
    "        continue   \n",
    "        \n",
    "if cp != 0 and sp!= 0:\n",
    "    profit = (sp-cp)/cp\n",
    "elif sp!= 0:\n",
    "    profit = (sp-stats_outlook.iloc[0,0])/stats_outlook.iloc[0,0]"
   ]
  },
  {
   "cell_type": "code",
   "execution_count": 4,
   "id": "b775e88b",
   "metadata": {},
   "outputs": [
    {
     "data": {
      "text/plain": [
       "-0.5001477423431048"
      ]
     },
     "execution_count": 4,
     "metadata": {},
     "output_type": "execute_result"
    }
   ],
   "source": [
    "profit"
   ]
  },
  {
   "cell_type": "code",
   "execution_count": 8,
   "id": "787d5aba",
   "metadata": {},
   "outputs": [
    {
     "data": {
      "text/plain": [
       "-65.39655077425675"
      ]
     },
     "execution_count": 8,
     "metadata": {},
     "output_type": "execute_result"
    }
   ],
   "source": [
    "percentprofit= (profit/stats_outlook.iloc[0,0])*100\n",
    "percentprofit"
   ]
  },
  {
   "cell_type": "code",
   "execution_count": 9,
   "id": "13a184f2",
   "metadata": {},
   "outputs": [
    {
     "data": {
      "image/png": "[encoded data removed]",
      "text/plain": [
       "<Figure size 432x288 with 1 Axes>"
      ]
     },
     "metadata": {
      "needs_background": "light"
     },
     "output_type": "display_data"
    }
   ],
   "source": [
    "def get_sma(prices, rate):\n",
    "    return prices.rolling(rate).mean()\n",
    "\n",
    "def get_bollinger_bands(prices, rate=360):\n",
    "    sma = get_sma(prices, rate)\n",
    "    std = prices.rolling(rate).std()\n",
    "    bollinger_up = sma + std * 1.25                              #Calculating upper band\n",
    "    bollinger_down = sma - std * 1.25                            #Calculating lower band\n",
    "    return bollinger_up, bollinger_down \n",
    "\n",
    "symbol = 'Bollinger Bands Graph'\n",
    "closing_prices = trial['FX_Rate'] \n",
    "\n",
    "sma = get_sma(closing_prices,360) \n",
    "bollinger_up, bollinger_down = get_bollinger_bands(closing_prices)\n",
    "\n",
    "# Plot the data\n",
    "plt.title(symbol)\n",
    "plt.xlabel('Time')\n",
    "plt.ylabel('Average Prices')\n",
    "plt.plot(closing_prices, label='Average Prices')\n",
    "plt.plot(sma, label='6 minute SMA')\n",
    "plt.plot(bollinger_up, label='Bollinger Up', c='g')\n",
    "plt.plot(bollinger_down, label='Bollinger Down', c='r')\n",
    "plt.legend()\n",
    "plt.show()"
   ]
  },
  {
   "cell_type": "code",
   "execution_count": 10,
   "id": "27fbb9f2",
   "metadata": {},
   "outputs": [],
   "source": [
    "malist=[]\n",
    "stdlist=[]\n",
    "\n",
    "for start in range(0, len(closing_prices)-360):\n",
    "    malist.append(np.mean(closing_prices[start: start + 360]))\n",
    "for start in range(0, len(closing_prices)-360):\n",
    "    stdlist.append(np.std(closing_prices[start: start + 360]))\n",
    "\n",
    "upper=[]\n",
    "lower=[]\n",
    "\n",
    "for i in range(len(malist)):\n",
    "    urb = malist[i] + (stdlist[i] * 1.25)\n",
    "    upper.append(urb)\n",
    "for i in range(len(malist)):\n",
    "    lrb = malist[i] - (stdlist[i] * 1.5)\n",
    "    lower.append(lrb)\n",
    "    \n",
    "###########################################\n",
    "\n",
    "clicker=0\n",
    "for i in range (len(stats_outlook)):\n",
    "    if (final_list[i] == \"do nothing\"):\n",
    "        clicker += 1\n",
    "\n",
    "trades = len(stats_outlook)-clicker\n",
    "\n",
    "##############################################\n",
    "\n",
    "xtrade=0\n",
    "\n",
    "for i in range (len(stats_outlook)):\n",
    "    if (final_list[i] == 'buy') and (average_prices[i]<lower[i]):\n",
    "        xtrade += 1\n",
    "        print(\" Decision:\",final_list[i],\"\\n\",\"Price bought at:\",average_prices[i],\"\\n\",\"Lower Bollinger set at\",lower[i])\n",
    "    elif (final_list[i] == 'sell') and (average_prices[i]>upper[i]):\n",
    "        xtrade +=1\n",
    "        print(\" Decision:\",final_list[i],\"\\n\",\"Price sold at:\",average_prices[i],\"\\n\",\"Upper Bollinger set at\",upper[i])\n",
    "    else:\n",
    "        continue"
   ]
  },
  {
   "cell_type": "code",
   "execution_count": 12,
   "id": "accd4f87",
   "metadata": {},
   "outputs": [
    {
     "name": "stdout",
     "output_type": "stream",
     "text": [
      " Total number of trades conducted: 3 \n",
      " Total number of trades conducted outside the Bollinger Bands: 0\n"
     ]
    }
   ],
   "source": [
    "print (\" Total number of trades conducted:\",trades,\"\\n\",\"Total number of trades conducted outside the Bollinger Bands:\",xtrade)"
   ]
  },
  {
   "cell_type": "code",
   "execution_count": null,
   "id": "9c00e205",
   "metadata": {},
   "outputs": [],
   "source": []
  }
 ],
 "metadata": {
  "kernelspec": {
   "display_name": "Python 3 (ipykernel)",
   "language": "python",
   "name": "python3"
  },
  "language_info": {
   "codemirror_mode": {
    "name": "ipython",
    "version": 3
   },
   "file_extension": ".py",
   "mimetype": "text/x-python",
   "name": "python",
   "nbconvert_exporter": "python",
   "pygments_lexer": "ipython3",
   "version": "3.9.7"
  }
 },
 "nbformat": 4,
 "nbformat_minor": 5
}
